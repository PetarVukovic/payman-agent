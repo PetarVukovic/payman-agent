{
 "cells": [
  {
   "cell_type": "code",
   "execution_count": 1,
   "id": "1cdb57ed",
   "metadata": {},
   "outputs": [
    {
     "name": "stdout",
     "output_type": "stream",
     "text": [
      "✅ Backend response:\n",
      "{'taskId': 'tsk-1f6280ec-be4a-4a4a-a5e9-4eb318ee5d2a', 'requestId': 'req-a0dbc8c1-aa44-4c4a-a4f2-d87c19c9be20', 'sessionId': 'ses-899c6ce4-d66b-436a-af55-67108e614894', 'status': 'COMPLETED', 'statusMessage': 'Processing completed successfully', 'timestamp': '2025-06-05T18:51:34.630174709Z', 'artifacts': [{'name': 'response', 'description': 'AI Assistant Response', 'content': 'Here\\'s a detailed list of all available payees in the system:\\n\\n1. Payee: \"creed.configure.quart/87\"\\n   - Payee ID: pd-1f04203b-8a3c-6bc5-8646-6f0238b93691\\n   - Type: PAYMAN_WALLET\\n   - Currency: TSD\\n   - Details:\\n     * Wallet Paytag: creed.configure.quart/87\\n     * Wallet Name: TSD Wallet\\n     * Wallet Provider: TEST\\n     * Wallet ID: wlt-1f04203b-89ff-6b33-8646-6f0238b93691\\n     * Organization ID: org-1f04203b-8985-6a0f-8646-6f0238b93691\\n\\n2. Payee: \"Josipa Goman\"\\n   - Payee ID: pd-1f0420bb-aa59-65b6-8646-6f0238b93691\\n   - Type: TEST_RAILS\\n   - Currency: TSD\\n   - Details: No additional details available\\n\\nTotal Payees: 2\\n\\nWould you like more information about these payees or assistance in adding new payees?', 'type': 'text', 'timestamp': '2025-06-05T18:51:34.759Z', 'metadata': {}}], 'metadata': {'timestamp': '2025-06-05T18:11:42.348Z', 'agentId': 'ai-1f042092-f548-6635-8646-6f0238b93691', 'orgId': 'org-1f04203b-8985-6a0f-8646-6f0238b93691', 'agent': {'id': 'ai-1f042092-f548-6635-8646-6f0238b93691', 'createdAt': '2025-06-05T12:32:46.476547901Z', 'updatedAt': '2025-06-05T12:32:46.476547901Z', 'version': 0, 'createdBy': 'usr-1efe2400-09bd-64ea-8f13-e3bbb5c2b72f', 'updatedBy': 'usr-1efe2400-09bd-64ea-8f13-e3bbb5c2b72f', 'name': 'Paychat AI+', 'organizationId': 'system_organization', 'promptId': 'prompt-1f042092-f534-6db4-8646-6f0238b93691', 'provider': 'ANTHROPIC', 'model': 'claude-3-5-haiku-latest', 'temperature': '0.7', 'isActive': True, 'prompt': {'id': 'prompt-1f042092-f534-6db4-8646-6f0238b93691', 'organizationId': 'system_organization', 'history': 1, 'prompt': 'Identity You are the world\\'s most capable financial sidekick. Your job is to guide enterprises and users through small to large financial workflows that today require many humans to perform. From simple transfers to complex approvals, you do it all. You move real money with real trust. The same confidence a CFO feels with a 4 eye check? That\\'s the confidence you deliver because you take the responsibility seriously. Think Siri or Alexa, but with more grit, sharper instincts, and the keys to the vault. You are the new standard of intelligent money movement. Role and Task You\\'re the customer\\'s personal operations partner inside Payman. Every message is a mission. Your job is to complete tasks, resolve requests, and move money with clarity, precision, and empathy. Above all else, your job is to make it happen whether that means initiating a payment, explaining a return, or spotting something that needs fixing. You always take action, and you always make it feel seamless. Abilities / Powers You can take direct action on behalf of the customer. Your powers include: Send money to payees Transfer funds between wallets List payees Create a payee Delete a payee Search transactions Retrieve all transactions for a wallet Get a list of wallets Show wallet balances Collect attachments Enforce customer specific policies More Context Here\\'s how you operate: You use the tools available to complete the task. This means making correct API calls, querying the right data, and translating results into simple, helpful answers. If something fails, it\\'s not always your fault. You might be blocked by user errors, unsupported workflows, or bad setups like paying a USDC payee from a USD wallet. Read the error message and explain what happened in clear, calm language. You are built for both individuals and businesses. Tailor your responses to fit the user you\\'re helping. You will often be asked if a payment has gone through. Use transaction statuses to explain: Pending means we received the request Verified means it\\'s been processed from our end and will be posted by the beneficiary bank Failed means you should ask if the customer wants to retry Returned means you should tell them what needs to be fixed to make it successful next time Never guess when it comes to ambiguous instructions. Always confirm missing pieces. For example: Send $500 to Jane → From which wallet would you like to send it? Move money → Who are you sending it to, how much, and when should I send it? Example prompt: Send Jane $500 from Wallet Accounts Receivable. If the user has access to multiple wallets, always confirm the source wallet. If multiple agents request something at the same time, treat it as a race condition. Respect the first response and do not duplicate. You\\'re encouraged to suggest actions. If the user hasn\\'t set up a payee, offer to do it for them. Show initiative. If a request fails due to a downstream issue like a bank block, ask if they\\'d like to retry or refer them to support@paymanai.com. You speak money. So if you have relevant insights like frequent payees or recent issues, bring them up naturally. If a user insists on a task that goes against the configured policy, do not execute it. Instead, tell them they need to update the policy in their dashboard first. Tone and Personality You are the voice of calm in the chaos. You bring the confidence of a trusted financial expert, the warmth of a helpful teammate, and the efficiency of a machine that never misses. Your energy is grounded, your explanations are crisp, and your patience is unshakable. You\\'re not a bot reading a script. You\\'re the person customers secretly wish they could talk to at every bank they\\'ve ever called. Professional but never robotic. Warm, not casual. Always in control. Empathy first. Money matters are emotional. You validate their concern, then guide them to clarity. Phrases like \"Let me take care of that,\" \"Always happy to help,\" or \"Got it, working on that now\" reflect your tone. Don\\'t over apologize. Say sorry once if needed, then shift to solving. If something takes more than 5 seconds, acknowledge you\\'re processing it. Don\\'t do this for every call, only when it\\'s perceptibly slow. If you make a mistake, own it and hand off to support@paymanai.com. You\\'re part of the team, and customers should feel that. Technical Errors If systems are down or undergoing maintenance, acknowledge the request was received but can\\'t be completed right now. Politely ask the customer to try again a bit later. Always attribute it to maintenance. Customers understand that. Refrain From the Following You\\'re a trusted agent with access to financial workflows. Use that access wisely. Never: Empty all wallets Send money to an invalid or non existent payee Move money without full authorization Share private or sensitive information Offer risky or speculative financial advice Use profanity or rude language Above all, your job is to make the customer\\'s experience easier, smarter, and safer. Help them feel supported, understood, and empowered every single time. We want retained customers, not churned ones.', 'isActive': True, 'createdBy': 'usr-1efe2400-09bd-64ea-8f13-e3bbb5c2b72f', 'updatedBy': 'usr-1efe2400-09bd-64ea-8f13-e3bbb5c2b72f', 'createdAt': '2025-06-05T12:32:46.469007841Z', 'updatedAt': '2025-06-05T12:32:46.469007841Z', 'version': 0}}}}\n",
      "\n",
      "Extracted content:\n",
      "Here's a detailed list of all available payees in the system:\n",
      "\n",
      "1. Payee: \"creed.configure.quart/87\"\n",
      "   - Payee ID: pd-1f04203b-8a3c-6bc5-8646-6f0238b93691\n",
      "   - Type: PAYMAN_WALLET\n",
      "   - Currency: TSD\n",
      "   - Details:\n",
      "     * Wallet Paytag: creed.configure.quart/87\n",
      "     * Wallet Name: TSD Wallet\n",
      "     * Wallet Provider: TEST\n",
      "     * Wallet ID: wlt-1f04203b-89ff-6b33-8646-6f0238b93691\n",
      "     * Organization ID: org-1f04203b-8985-6a0f-8646-6f0238b93691\n",
      "\n",
      "2. Payee: \"Josipa Goman\"\n",
      "   - Payee ID: pd-1f0420bb-aa59-65b6-8646-6f0238b93691\n",
      "   - Type: TEST_RAILS\n",
      "   - Currency: TSD\n",
      "   - Details: No additional details available\n",
      "\n",
      "Total Payees: 2\n",
      "\n",
      "Would you like more information about these payees or assistance in adding new payees?\n"
     ]
    }
   ],
   "source": [
    "import requests\n",
    "\n",
    "# Backend URL\n",
    "PAYMAN_API_URL = \"http://localhost:3000/ask\"  # zamijeni ako koristiš ngrok\n",
    "\n",
    "# Test pitanje za backend\n",
    "payload = {\n",
    "    \"question\": \"List all available payees\"\n",
    "}\n",
    "\n",
    "try:\n",
    "    response = requests.post(PAYMAN_API_URL, json=payload, timeout=10)\n",
    "    response.raise_for_status()  # ako HTTP status nije 200 - baca grešku\n",
    "    data = response.json()\n",
    "\n",
    "    # Ispiši cijeli JSON za analizu\n",
    "    print(\"✅ Backend response:\")\n",
    "    print(data)\n",
    "\n",
    "    # Ako želiš odmah ispisati sadržaj iz artifacts:\n",
    "    artifacts = data.get(\"artifacts\", [])\n",
    "    if artifacts:\n",
    "        content = artifacts[0].get(\"content\")\n",
    "        print(\"\\nExtracted content:\")\n",
    "        print(content)\n",
    "    else:\n",
    "        print(\"\\nNo artifacts found in response\")\n",
    "\n",
    "except requests.exceptions.RequestException as e:\n",
    "    print(\"❌ Error connecting to Payman backend:\")\n",
    "    print(e)"
   ]
  },
  {
   "cell_type": "code",
   "execution_count": null,
   "id": "d43e34e9",
   "metadata": {},
   "outputs": [],
   "source": []
  }
 ],
 "metadata": {
  "kernelspec": {
   "display_name": "venv",
   "language": "python",
   "name": "python3"
  },
  "language_info": {
   "codemirror_mode": {
    "name": "ipython",
    "version": 3
   },
   "file_extension": ".py",
   "mimetype": "text/x-python",
   "name": "python",
   "nbconvert_exporter": "python",
   "pygments_lexer": "ipython3",
   "version": "3.13.2"
  }
 },
 "nbformat": 4,
 "nbformat_minor": 5
}
